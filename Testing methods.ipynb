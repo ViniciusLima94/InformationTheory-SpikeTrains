{
 "cells": [
  {
   "cell_type": "code",
   "execution_count": 1,
   "metadata": {},
   "outputs": [],
   "source": [
    "import ctypes\n",
    "import numpy             as np\n",
    "import matplotlib.pyplot as plt\n",
    "from   tqdm              import tqdm"
   ]
  },
  {
   "cell_type": "markdown",
   "metadata": {},
   "source": [
    "### Importing C functions"
   ]
  },
  {
   "cell_type": "code",
   "execution_count": 2,
   "metadata": {},
   "outputs": [],
   "source": [
    "_it = ctypes.CDLL('src/libit.so')"
   ]
  },
  {
   "cell_type": "markdown",
   "metadata": {},
   "source": [
    "#### Entropy from probabilities"
   ]
  },
  {
   "cell_type": "code",
   "execution_count": 3,
   "metadata": {},
   "outputs": [],
   "source": [
    "_it.entropyfromprobabilities.argtypes = (ctypes.POINTER(ctypes.c_float), ctypes.c_int)\n",
    "_it.entropyfromprobabilities.restype  = ctypes.c_float"
   ]
  },
  {
   "cell_type": "markdown",
   "metadata": {},
   "source": [
    "Below we create a wrapper for the __entropyfromprobabilities__ C method."
   ]
  },
  {
   "cell_type": "code",
   "execution_count": 4,
   "metadata": {},
   "outputs": [],
   "source": [
    "def entropyfromprobabilities(p):\n",
    "    global _it\n",
    "    n_bins     = len(p)\n",
    "    array_type = ctypes.c_float * n_bins\n",
    "    H          = _it.entropyfromprobabilities(array_type(*p), ctypes.c_int(n_bins))\n",
    "    return float(H)"
   ]
  },
  {
   "cell_type": "markdown",
   "metadata": {},
   "source": [
    "#### Entropy for spike trains"
   ]
  },
  {
   "cell_type": "code",
   "execution_count": 5,
   "metadata": {},
   "outputs": [],
   "source": [
    "_it.BinEntropy.argtypes = (ctypes.POINTER(ctypes.c_int), ctypes.c_int)\n",
    "_it.BinEntropy.restype  = ctypes.c_float"
   ]
  },
  {
   "cell_type": "code",
   "execution_count": 6,
   "metadata": {},
   "outputs": [],
   "source": [
    "def BinEntropy(x):\n",
    "    global _it\n",
    "    n_bins     = len(x)\n",
    "    array_type = ctypes.c_int * n_bins\n",
    "    H          = _it.BinEntropy(array_type(*x), ctypes.c_int(n_bins))\n",
    "    return float(H)"
   ]
  },
  {
   "cell_type": "code",
   "execution_count": 7,
   "metadata": {},
   "outputs": [],
   "source": [
    "# Function to generate the binary time series\n",
    "def generate_series(p_1 = 0, size = 1000):\n",
    "    r = np.random.rand(size)\n",
    "    return (r > p_1).astype(int)"
   ]
  },
  {
   "cell_type": "code",
   "execution_count": 8,
   "metadata": {},
   "outputs": [],
   "source": [
    "# Probabilities of p(1)\n",
    "probabilities = np.linspace(0, 1, 20)\n",
    "# Computing entropy\n",
    "H = [BinEntropy(generate_series(p_1 = p, size = 5000)) for p in probabilities]"
   ]
  },
  {
   "cell_type": "code",
   "execution_count": 9,
   "metadata": {},
   "outputs": [
    {
     "data": {
      "text/plain": [
       "Text(0.5, 0, 'probabilities')"
      ]
     },
     "execution_count": 9,
     "metadata": {},
     "output_type": "execute_result"
    },
    {
     "data": {
      "image/png": "[encoded data removed]",
      "text/plain": [
       "<Figure size 432x288 with 1 Axes>"
      ]
     },
     "metadata": {
      "needs_background": "light"
     },
     "output_type": "display_data"
    }
   ],
   "source": [
    "plt.figure(figsize=(6,4))\n",
    "plt.plot(probabilities, H)\n",
    "plt.ylabel('Entropy [bits]')\n",
    "plt.xlabel('probabilities')"
   ]
  },
  {
   "cell_type": "markdown",
   "metadata": {},
   "source": [
    "#### Joint entropy"
   ]
  },
  {
   "cell_type": "code",
   "execution_count": 10,
   "metadata": {},
   "outputs": [],
   "source": [
    "_it.BinJointEntropy.argtypes = (ctypes.POINTER(ctypes.c_int), ctypes.POINTER(ctypes.c_int),ctypes.c_int)\n",
    "_it.BinJointEntropy.restype  = ctypes.c_float"
   ]
  },
  {
   "cell_type": "code",
   "execution_count": 11,
   "metadata": {},
   "outputs": [],
   "source": [
    "def BinJointEntropy(x,y):\n",
    "    if len(x) != len(y):\n",
    "        raise ValueError('Inputs x and y should have the same length')\n",
    "    global _it\n",
    "    n_bins     = len(x)\n",
    "    array_type = ctypes.c_int * n_bins\n",
    "    Hxy        = _it.BinJointEntropy(array_type(*x), array_type(*y),ctypes.c_int(n_bins))\n",
    "    return float(Hxy)"
   ]
  },
  {
   "cell_type": "code",
   "execution_count": 12,
   "metadata": {},
   "outputs": [],
   "source": [
    "def gen_coupled_series(N=1000,rho=0):\n",
    "    cov = [[1, rho], \n",
    "           [rho, 1]]\n",
    "    X   = np.random.multivariate_normal((0,0), cov, size=N).T\n",
    "    return (X[0]>.5).astype(int), (X[1]> .5).astype(int)"
   ]
  },
  {
   "cell_type": "code",
   "execution_count": 13,
   "metadata": {},
   "outputs": [
    {
     "name": "stderr",
     "output_type": "stream",
     "text": [
      "100%|██████████| 100/100 [00:17<00:00,  5.74it/s]\n"
     ]
    }
   ],
   "source": [
    "rho_list = np.linspace(0,1,100)\n",
    "Hx       = np.zeros_like(rho_list)\n",
    "Hy       = np.zeros_like(rho_list)\n",
    "Hxy      = np.zeros_like(rho_list)\n",
    "for i in tqdm( range( len(rho_list) ) ):\n",
    "    x,y    = gen_coupled_series(N=100000, rho=rho_list[i])\n",
    "    Hx[i]  = BinEntropy(x)\n",
    "    Hxy[i] = BinJointEntropy(x,y)/Hx[i]"
   ]
  },
  {
   "cell_type": "code",
   "execution_count": 14,
   "metadata": {},
   "outputs": [
    {
     "data": {
      "text/plain": [
       "Text(0.5, 0, '$\\\\rho$')"
      ]
     },
     "execution_count": 14,
     "metadata": {},
     "output_type": "execute_result"
    },
    {
     "data": {
      "image/png": "[encoded data removed]",
      "text/plain": [
       "<Figure size 432x288 with 1 Axes>"
      ]
     },
     "metadata": {
      "needs_background": "light"
     },
     "output_type": "display_data"
    }
   ],
   "source": [
    "plt.plot(rho_list, Hxy)\n",
    "plt.ylabel(r'$H_{xy}(\\rho)/H_{x}$', fontsize=15)\n",
    "plt.xlabel(r'$\\rho$', fontsize=15)"
   ]
  },
  {
   "cell_type": "markdown",
   "metadata": {},
   "source": [
    "#### Mutual information"
   ]
  },
  {
   "cell_type": "code",
   "execution_count": 15,
   "metadata": {},
   "outputs": [],
   "source": [
    "_it.BinMutualInformation.argtypes = (ctypes.POINTER(ctypes.c_int), ctypes.POINTER(ctypes.c_int),ctypes.c_int)\n",
    "_it.BinMutualInformation.restype  = ctypes.c_float"
   ]
  },
  {
   "cell_type": "code",
   "execution_count": 16,
   "metadata": {},
   "outputs": [],
   "source": [
    "def BinMutualInformation(x,y):\n",
    "    if len(x) != len(y):\n",
    "        raise ValueError('Inputs x and y should have the same length')\n",
    "    global _it\n",
    "    n_bins     = len(x)\n",
    "    array_type = ctypes.c_int * n_bins\n",
    "    MI         = _it.BinMutualInformation(array_type(*x), array_type(*y),ctypes.c_int(n_bins))\n",
    "    return float(MI)"
   ]
  },
  {
   "cell_type": "code",
   "execution_count": 17,
   "metadata": {},
   "outputs": [
    {
     "name": "stderr",
     "output_type": "stream",
     "text": [
      "100%|██████████| 100/100 [00:14<00:00,  6.73it/s]\n"
     ]
    }
   ],
   "source": [
    "rho_list = np.linspace(0,1,100)\n",
    "MI      = np.zeros_like(rho_list)\n",
    "for i in tqdm( range( len(rho_list) ) ):\n",
    "    x,y    = gen_coupled_series(N=100000, rho=rho_list[i])\n",
    "    MI[i] = BinMutualInformation(x,y)"
   ]
  },
  {
   "cell_type": "code",
   "execution_count": 19,
   "metadata": {},
   "outputs": [
    {
     "data": {
      "text/plain": [
       "Text(0.5, 0, '$\\\\rho$')"
      ]
     },
     "execution_count": 19,
     "metadata": {},
     "output_type": "execute_result"
    },
    {
     "data": {
      "image/png": "[encoded data removed]",
      "text/plain": [
       "<Figure size 432x288 with 1 Axes>"
      ]
     },
     "metadata": {
      "needs_background": "light"
     },
     "output_type": "display_data"
    }
   ],
   "source": [
    "plt.plot(rho_list, MI)\n",
    "plt.ylabel(r'$MI_{xy}(\\rho)$', fontsize=15)\n",
    "plt.xlabel(r'$\\rho$', fontsize=15)"
   ]
  },
  {
   "cell_type": "code",
   "execution_count": 21,
   "metadata": {},
   "outputs": [],
   "source": [
    "def BinLaggedMutualInformation(x,y,lag=0):\n",
    "    if len(x) != len(y):\n",
    "        raise ValueError('Inputs x and y should have the same length')\n",
    "    global _it\n",
    "    if lag == 0:\n",
    "        return BinMutualInformation(x,y)\n",
    "    else:\n",
    "        if lag > 0:\n",
    "            x_lagged = x[lag:]\n",
    "            y_lagged = y[:-lag]\n",
    "        elif lag < 0:\n",
    "            x_lagged = x[:lag]\n",
    "            y_lagged = y[-lag:]            \n",
    "        return BinMutualInformation(x_lagged,y_lagged)"
   ]
  },
  {
   "cell_type": "code",
   "execution_count": 42,
   "metadata": {},
   "outputs": [],
   "source": [
    "def gen_lagged_series(N=1000, lag=0, rho = 0):\n",
    "    x = np.random.rand(N)\n",
    "    y = np.random.rand(N)\n",
    "    y[:-lag] = y[:-lag] + rho * x[lag:]\n",
    "    return (x>.5).astype(int), (y>.5).astype(int)"
   ]
  },
  {
   "cell_type": "code",
   "execution_count": 43,
   "metadata": {},
   "outputs": [
    {
     "name": "stderr",
     "output_type": "stream",
     "text": [
      "100%|██████████| 5/5 [00:00<00:00,  6.68it/s]\n"
     ]
    }
   ],
   "source": [
    "rho_list = np.array([0, 0.5, 1, 5, 10])\n",
    "lags     = np.arange(-10,11,1, dtype=int)\n",
    "MI       = np.zeros([len(rho_list), len(lags)])\n",
    "for i in tqdm( range(len(rho_list)) ):\n",
    "    x, y = gen_lagged_series(N=10000, lag=5, rho = rho_list[i])\n",
    "    MI[i,:] = [BinLaggedMutualInformation(x,y,lag) for lag in lags]"
   ]
  },
  {
   "cell_type": "code",
   "execution_count": 46,
   "metadata": {},
   "outputs": [
    {
     "name": "stderr",
     "output_type": "stream",
     "text": [
      "100%|██████████| 5/5 [00:00<00:00, 125.36it/s]\n"
     ]
    },
    {
     "data": {
      "text/plain": [
       "<matplotlib.legend.Legend at 0x7f0d727f1048>"
      ]
     },
     "execution_count": 46,
     "metadata": {},
     "output_type": "execute_result"
    },
    {
     "data": {
      "image/png": "[encoded data removed]",
      "text/plain": [
       "<Figure size 432x288 with 1 Axes>"
      ]
     },
     "metadata": {
      "needs_background": "light"
     },
     "output_type": "display_data"
    }
   ],
   "source": [
    "for i in tqdm( range(len(rho_list)) ):\n",
    "    plt.plot(lags, MI[i], label = r'$\\rho')\n",
    "plt.title('X and Y are lagged by 5 bins')\n",
    "plt.ylabel(r'$MI_{xy}(\\rho)$', fontsize=15)\n",
    "plt.xlabel(r'lag', fontsize=15)\n",
    "plt.legend()"
   ]
  }
 ],
 "metadata": {
  "kernelspec": {
   "display_name": "Python 3",
   "language": "python",
   "name": "python3"
  },
  "language_info": {
   "codemirror_mode": {
    "name": "ipython",
    "version": 3
   },
   "file_extension": ".py",
   "mimetype": "text/x-python",
   "name": "python",
   "nbconvert_exporter": "python",
   "pygments_lexer": "ipython3",
   "version": "3.6.8"
  }
 },
 "nbformat": 4,
 "nbformat_minor": 2
}
